{
 "cells": [
  {
   "cell_type": "markdown",
   "id": "d97cf6d4-f207-4184-8783-2aeed5c8b89d",
   "metadata": {},
   "source": [
    "Taller Presencial --- Programación en Python\n",
    "==="
   ]
  },
  {
   "cell_type": "markdown",
   "id": "506b8e1d-8bd3-4d79-ae3e-579b98cc33e1",
   "metadata": {},
   "source": [
    "El algoritmo MapReduce de Hadoop se presenta en la siguiente figura."
   ]
  },
  {
   "cell_type": "code",
   "execution_count": null,
   "id": "1d9b30e6",
   "metadata": {},
   "outputs": [],
   "source": []
  },
  {
   "cell_type": "markdown",
   "id": "f1929108-8565-481a-81f0-aeaf706339ac",
   "metadata": {},
   "source": [
    "<img src=\"https://raw.githubusercontent.com/jdvelasq/datalabs/master/images/map-reduce.jpg\"/>"
   ]
  },
  {
   "cell_type": "markdown",
   "id": "e0f2e7c5-9a63-471e-81fd-11eab4dc94f5",
   "metadata": {},
   "source": [
    "Se desea escribir un programa que realice el conteo de palabras usando el algoritmo MapReduce."
   ]
  },
  {
   "cell_type": "code",
   "execution_count": null,
   "id": "17c50a0a-7ecd-4cbf-92ea-6fbdf98b1389",
   "metadata": {},
   "outputs": [],
   "source": [
    "#\n",
    "# A continuación se crea las carpetas /tmp/input, /tmp/output y tres archivos de prueba\n",
    "#\n",
    "!rm -rf /tmp/input /tmp/output\n",
    "!mkdir /tmp/input\n",
    "!mkdir /tmp/output"
   ]
  },
  {
   "cell_type": "code",
   "execution_count": null,
   "id": "e7477ede-1f15-4bd6-a052-96cbb45eb47e",
   "metadata": {},
   "outputs": [],
   "source": [
    "%%writefile /tmp/input/text0.txt\n",
    "Analytics is the discovery, interpretation, and communication of meaningful patterns \n",
    "in data. Especially valuable in areas rich with recorded information, analytics relies \n",
    "on the simultaneous application of statistics, computer programming and operations research \n",
    "to quantify performance.\n",
    "\n",
    "Organizations may apply analytics to business data to describe, predict, and improve business \n",
    "performance. Specifically, areas within analytics include predictive analytics, prescriptive \n",
    "analytics, enterprise decision management, descriptive analytics, cognitive analytics, Big \n",
    "Data Analytics, retail analytics, store assortment and stock-keeping unit optimization, \n",
    "marketing optimization and marketing mix modeling, web analytics, call analytics, speech \n",
    "analytics, sales force sizing and optimization, price and promotion modeling, predictive \n",
    "science, credit risk analysis, and fraud analytics. Since analytics can require extensive \n",
    "computation (see big data), the algorithms and software used for analytics harness the most \n",
    "current methods in computer science, statistics, and mathematics"
   ]
  },
  {
   "cell_type": "code",
   "execution_count": null,
   "id": "eec648b0-a691-42e4-98f1-4599d78fc494",
   "metadata": {},
   "outputs": [],
   "source": [
    "%%writefile /tmp/input/text1.txt\n",
    "The field of data analysis. Analytics often involves studying past historical data to \n",
    "research potential trends, to analyze the effects of certain decisions or events, or to \n",
    "evaluate the performance of a given tool or scenario. The goal of analytics is to improve \n",
    "the business by gaining knowledge which can be used to make improvements or changes."
   ]
  },
  {
   "cell_type": "code",
   "execution_count": null,
   "id": "19842b83-e7ad-4f73-8a76-8010e2f49ff4",
   "metadata": {},
   "outputs": [],
   "source": [
    "\n",
    "%%writefile /tmp/input/text2.txt\n",
    "Data analytics (DA) is the process of examining data sets in order to draw conclusions \n",
    "about the information they contain, increasingly with the aid of specialized systems \n",
    "and software. Data analytics technologies and techniques are widely used in commercial \n",
    "industries to enable organizations to make more-informed business decisions and by \n",
    "scientists and researchers to verify or disprove scientific models, theories and \n",
    "hypotheses."
   ]
  },
  {
   "cell_type": "code",
   "execution_count": null,
   "id": "78ff8bd9-703f-488c-9b4c-2b1e9a975ec2",
   "metadata": {},
   "outputs": [],
   "source": [
    "#\n",
    "# Escriba la función load_input que recive como parámetro un folder y retorna  \n",
    "# una lista de tuplas donde el primer elemento de cada tupla es el nombre del \n",
    "# archivo y el segundo es una línea del archivo. La función convierte a tuplas\n",
    "# todas las lineas de cada uno de los archivos. La función es genérica y debe\n",
    "# leer todos los archivos de folder entregado como parámetro.\n",
    "# \n",
    "# Por ejemplo:\n",
    "#   [\n",
    "#     ('text0'.txt', 'Analytics is the discovery, inter ...'),\n",
    "#     ('text0'.txt', 'in data. Especially valuable in ar...').\n",
    "#     ...\n",
    "#     ('text2.txt'. 'hypotheses.')\n",
    "#   ]\n",
    "#\n",
    "def load_input(input_directory):\n",
    "    pass"
   ]
  },
  {
   "cell_type": "code",
   "execution_count": null,
   "id": "c2b27fb1-7a77-4334-96b9-6ab9d7a7941c",
   "metadata": {},
   "outputs": [],
   "source": [
    "#\n",
    "# Escriba una función llamada maper que recibe una lista de tuplas de la \n",
    "# función anterior y retorna una lista de tuplas (clave, valor). En este caso,\n",
    "# la clave es cada palabra y el valor es 1, puesto que se está realizando un\n",
    "# conteo.\n",
    "#\n",
    "#   [\n",
    "#     ('Analytics', 1),\n",
    "#     ('is', 1),\n",
    "#     ...\n",
    "#   ]\n",
    "#\n",
    "def mapper(sequence):\n",
    "    pass"
   ]
  },
  {
   "cell_type": "code",
   "execution_count": null,
   "id": "f299fb7b-7092-431a-96e0-d42e65af2b47",
   "metadata": {},
   "outputs": [],
   "source": [
    "#\n",
    "# Escriba la función shuffle_and_sort que recibe la lista de tuplas entregada\n",
    "# por el mapper, y retorna una lista con el mismo contenido ordenado por la\n",
    "# clave.\n",
    "#\n",
    "#   [\n",
    "#     ('Analytics', 1),\n",
    "#     ('Analytics', 1),\n",
    "#     ...\n",
    "#   ]\n",
    "#\n",
    "def shuffle_and_sort(sequence):\n",
    "    pass"
   ]
  },
  {
   "cell_type": "code",
   "execution_count": null,
   "id": "0f8ba496-a30c-408e-9d96-b3e96a99ea5f",
   "metadata": {},
   "outputs": [],
   "source": [
    "#\n",
    "# Escriba la función reducer, la cual recibe el resultado de shuffle_and_sort y\n",
    "# reduce los valores asociados a cada clave sumandolos. Como resultado, por \n",
    "# ejemplo, la reducción indica cuantas veces aparece la palabra analytics en el\n",
    "# texto.\n",
    "#\n",
    "def reducer(sequence):\n",
    "    pass"
   ]
  },
  {
   "cell_type": "code",
   "execution_count": null,
   "id": "dcc49500-2d87-4c5d-9ef3-f260e641c013",
   "metadata": {},
   "outputs": [],
   "source": [
    "#\n",
    "# Escriba la función save_output, que toma la lista devuelta por el reducer y \n",
    "# escribe en la carpeta /tmp/output/ los archivos 'part-0.txt', 'part-1.txt', \n",
    "# etc. El primer archivo contiene las primeras 20 palabras contadas, el segundo\n",
    "# de la 21 a la 40 y asi sucesivamente. Cada línea de cada archivo contiene la\n",
    "# palabra y las veces que aparece separadas por un tabulador.\n",
    "#\n",
    "def save_output(sequence, output_directory):\n",
    "    pass"
   ]
  }
 ],
 "metadata": {
  "kernelspec": {
   "display_name": "Python 3",
   "language": "python",
   "name": "python3"
  },
  "language_info": {
   "codemirror_mode": {
    "name": "ipython",
    "version": 3
   },
   "file_extension": ".py",
   "mimetype": "text/x-python",
   "name": "python",
   "nbconvert_exporter": "python",
   "pygments_lexer": "ipython3",
   "version": "3.6.9"
  }
 },
 "nbformat": 4,
 "nbformat_minor": 5
}
